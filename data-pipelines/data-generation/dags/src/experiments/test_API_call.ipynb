{
 "cells": [
  {
   "cell_type": "code",
   "execution_count": 11,
   "metadata": {},
   "outputs": [],
   "source": [
    "import sys\n",
    "import os\n",
    "import datetime\n",
    "\n",
    "# Add the directory containing 'schema' to the Python path\n",
    "sys.path.append(os.path.abspath(os.path.join(os.getcwd(), '..')))\n",
    "import uuid\n",
    "from schema.post import Post, ReactionType\n",
    "import random\n",
    "from langchain_core.prompts import ChatPromptTemplate\n",
    "from langchain.output_parsers import PydanticOutputParser\n",
    "from langchain_openai import ChatOpenAI"
   ]
  },
  {
   "cell_type": "code",
   "execution_count": 2,
   "metadata": {},
   "outputs": [],
   "source": [
    "parser = PydanticOutputParser(pydantic_object=Post)\n",
    "job_title = \"Machine Learning Engineer\"\n",
    "company_name = \"CVS Health\"\n",
    "user_id = \"1234\"\n",
    "format_instructions = parser.get_format_instructions()\n",
    "role = \"recruiter\"\n",
    "job_id = \"1234\""
   ]
  },
  {
   "cell_type": "code",
   "execution_count": 3,
   "metadata": {},
   "outputs": [],
   "source": [
    "job_description = \"\"\"\n",
    "**Company Description  \n",
    "            CVS Health is committed to delivering human-centric healthcare through innovation and empathy. The company emphasizes  Heart At Work Behaviors™ *, fostering a culture of empowerment, collaboration, and purpose-driven solutions.  \n",
    "\n",
    "            ---\n",
    "\n",
    "            **Position Details**  \n",
    "            **Role Summary:**  \n",
    "            Design, develop, and deploy machine learning solutions to enhance healthcare services. Collaborate with cross-functional teams to translate data insights into production-ready tools.  \n",
    "\n",
    "            **Key Responsibilities:**  \n",
    "            - Partner with data scientists, developers, and product managers to operationalize ML services.  \n",
    "            - Build and optimize ML models/frameworks for user value.  \n",
    "            - Develop data pipelines and leverage cloud warehouses (BigQuery, Snowflake, Redshift).  \n",
    "            - Use modern software stacks (Python, Java, SQL, PySpark) for ML lifecycle management.  \n",
    "            - Lead product performance improvements and stakeholder communication.  \n",
    "\n",
    "            ---\n",
    "\n",
    "            **Qualifications**  \n",
    "            - **Technical Skills:**  \n",
    "              - 2+ years in software development (Python, Java, or open-source contributions).  \n",
    "              - 1+ years with ML libraries (Scikit-learn, PyTorch, etc.) and algorithms (clustering, decision trees).  \n",
    "              - 1+ years in analytical pipelines (SQL, PySpark) and cloud data tools.  \n",
    "              - 1+ years with Docker/Kubernetes.  \n",
    "            - **Soft Skills:**  \n",
    "              - Stakeholder management and independent project delivery.  \n",
    "\n",
    "            ---\n",
    "\n",
    "            **Education**  \n",
    "            - **Required:** Bachelor’s degree in Computer Science, Data Engineering, ML, or related field.  \n",
    "            - **Preferred:** Master’s degree.  \n",
    "\n",
    "            ---\n",
    "\n",
    "            **Compensation & Benefits**  \n",
    "            - **Weekly Hours:** 40  \n",
    "            - **Pay Range:** $86,520 - $173,040 annually (base salary + bonus/commission eligibility).  \n",
    "            - **Benefits:**  \n",
    "              - Medical, dental, vision insurance.  \n",
    "              - 401(k), Employee Stock Purchase Plan.  \n",
    "              - Life/disability insurance, wellness programs, education assistance.  \n",
    "              - PTO, paid holidays, CVS store discounts.  \n",
    "\n",
    "            ---\n",
    "\n",
    "            **Application Information**  \n",
    "            - **Application Window Closes:** March 31, 2025.  \n",
    "            - **Note:** CVS Health considers applicants with arrest/conviction records per federal, state, and local laws.  \n",
    "\n",
    "            **Simplify Your Application:** Focus on aligning technical expertise (ML, cloud tools) and collaborative experience in healthcare or related fields. Highlight open-source contributions and stakeholder management skills.  \n",
    "\n",
    "            ---  \n",
    "            *Structured for clarity, brevity, and emphasis on key requirements and cultural fit.*\n",
    "\"\"\""
   ]
  },
  {
   "cell_type": "code",
   "execution_count": 4,
   "metadata": {},
   "outputs": [],
   "source": [
    "# Create the prompt template\n",
    "from langchain.prompts import PromptTemplate\n",
    "post_template = PromptTemplate.from_template(\n",
    "    \"\"\"Create a LinkedIn recruiter post for a {job_title} position following this exact structure:\n",
    "\n",
    "🚀 We're Hiring: {job_title}!\n",
    "✨ About the Role:\n",
    "- {{Insert 1-sentence company introduction}}\n",
    "- {{Share core team mission}}\n",
    "\n",
    "🔍 Key Responsibilities:\n",
    "{{\n",
    "- Extract 3-5 main responsibilities from job description\n",
    "- Focus on impact rather than tasks\n",
    "}}\n",
    "\n",
    "✅ Ideal Candidate:\n",
    "{{\n",
    "- List 3-5 key requirements from job description\n",
    "- Include both hard and soft skills\n",
    "}}\n",
    "\n",
    "🌟 Why Join Us?\n",
    "{{{{\n",
    "- Highlight 2-3 unique benefits/opportunities\n",
    "- Keep it employee-centric\n",
    "}}}}\n",
    "\n",
    "📩 How to Apply:\n",
    "- Include clear call-to-action\n",
    "- Add relevant hashtags (3-5)\n",
    "\n",
    "Job Description Context: {job_description}\n",
    "\n",
    "Maintain these formatting rules:\n",
    "- Use emojis as section headers\n",
    "- Keep paragraphs under 3 lines\n",
    "- Use clean line breaks between sections\n",
    "- Avoid markdown formatting\n",
    "- Maintain corporate tone with personality\"\"\"\n",
    ")"
   ]
  },
  {
   "cell_type": "code",
   "execution_count": 5,
   "metadata": {},
   "outputs": [],
   "source": [
    "import os\n",
    "from dotenv import load_dotenv\n",
    "\n",
    "class Config:\n",
    "    def __init__(self):\n",
    "        load_dotenv()  # Load .env variables\n",
    "\n",
    "        self.OPENAI_API_KEY = os.getenv(\"OPENAI_API_KEY\")\n",
    "        self.DB_NAME = os.getenv(\"DB_NAME\")\n",
    "        self.DB_CREDENTIALS_PATH = os.getenv(\"DB_CREDENTIALS_PATH\")\n",
    "        self.MAX_OPEN_AI_REQUEST_PER_MIN = 20\n",
    "        self.MAX_OPEN_AI_REQUEST_PER_DAY = 200\n",
    "        \n",
    "# Create a single config instance\n",
    "config = Config()"
   ]
  },
  {
   "cell_type": "code",
   "execution_count": null,
   "metadata": {},
   "outputs": [],
   "source": [
    "LLM_CONFIGS = {\n",
    "    'user-recruiter-generation': {\n",
    "        \"model_name\": \"meta-llama/llama-3.3-70b-instruct:free\",\n",
    "        \"params\": {\n",
    "            \"temperature\":1.2,\n",
    "            \"max_tokens\": 50000,\n",
    "            \"top_p\":1.0,\n",
    "            \"frequency_penalty\": 1.0,\n",
    "            \"presence_penalty\": 0.0,\n",
    "            \"request_timeout\": 60\n",
    "        }\n",
    "    },\n",
    "    \n",
    "}"
   ]
  },
  {
   "cell_type": "code",
   "execution_count": 7,
   "metadata": {},
   "outputs": [],
   "source": [
    "def get_open_router_llm(config_key):\n",
    "    open_router_base_url = \"https://openrouter.ai/api/v1\"\n",
    "    llm_params = LLM_CONFIGS[config_key]\n",
    "    if not config:\n",
    "        raise ValueError(f\"Configuration for {config_key} not found.\")\n",
    "    model_name = llm_params[\"model_name\"]\n",
    "    model_params = llm_params[\"params\"]\n",
    "\n",
    "    if not model_name:\n",
    "        raise ValueError(f\"Model name not found for {config_key}.\")\n",
    "    \n",
    "    llm = ChatOpenAI(\n",
    "        model_name = llm_params[\"model_name\"],\n",
    "        openai_api_base = open_router_base_url,\n",
    "        openai_api_key = config.OPENAI_API_KEY,\n",
    "        **model_params\n",
    "    )\n",
    "    print(\"\\nLLm Used: \\n\", llm)\n",
    "    return llm"
   ]
  },
  {
   "cell_type": "code",
   "execution_count": 8,
   "metadata": {},
   "outputs": [
    {
     "name": "stdout",
     "output_type": "stream",
     "text": [
      "\n",
      "LLm Used: \n",
      " client=<openai.resources.chat.completions.completions.Completions object at 0x118ea1750> async_client=<openai.resources.chat.completions.completions.AsyncCompletions object at 0x119007450> root_client=<openai.OpenAI object at 0x118ef1b50> root_async_client=<openai.AsyncOpenAI object at 0x118fe8590> model_name='meta-llama/llama-3.3-70b-instruct:free' temperature=1.2 model_kwargs={} openai_api_key=SecretStr('**********') openai_api_base='https://openrouter.ai/api/v1' request_timeout=60.0 presence_penalty=0.0 frequency_penalty=1.0 top_p=1.0 max_tokens=50000\n"
     ]
    }
   ],
   "source": [
    "llm = get_open_router_llm(\"user-recruiter-generation\")\n",
    "chain = post_template | llm "
   ]
  },
  {
   "cell_type": "code",
   "execution_count": 10,
   "metadata": {},
   "outputs": [
    {
     "name": "stdout",
     "output_type": "stream",
     "text": [
      "🚀 We're Hiring: Machine Learning Engineer!\n",
      "✨ About the Role:\n",
      "CVS Health delivers human-centric healthcare through innovation and empathy. \n",
      "Our team's mission is to enhance healthcare services through machine learning solutions.\n",
      "\n",
      "🔍 Key Responsibilities:\n",
      "- Collaborate with cross-functional teams to operationalize ML services\n",
      "- Develop production-ready tools that drive user value\n",
      "- Optimize ML models for better performance\n",
      "\n",
      "✅ Ideal Candidate:\n",
      "- 2+ years of software development experience with Python, Java, or open-source contributions\n",
      "- Experience with machine learning libraries and algorithms\n",
      "- Strong stakeholder management and independent project delivery skills\n",
      "\n",
      "🌟 Why Join Us?\n",
      "Unique benefits include professional growth opportunities, comprehensive health insurance, and a culture of empowerment \n",
      "Collaborative work environment with a purpose-driven team\n",
      "Opportunities for open-source contributions and innovation\n",
      "\n",
      "📩 How to Apply:\n",
      "Apply now at our website or email your resume to [insert email]\n",
      "#MachineLearning #HealthcareInnovation #JobOpening\n"
     ]
    }
   ],
   "source": [
    "post_content = chain.invoke({\n",
    "    \"job_title\": job_title,\n",
    "    \"job_description\": job_description\n",
    "})\n",
    "\n",
    "print(post_content.content)\n"
   ]
  },
  {
   "cell_type": "code",
   "execution_count": 19,
   "metadata": {},
   "outputs": [],
   "source": [
    "# Create validated Post object\n",
    "valid_post = Post(\n",
    "    job_id=datetime.datetime.now().strftime(\"%Y%m%d%H%M%S\"),\n",
    "    timestamp=int(datetime.datetime.now().timestamp()),\n",
    "    author=\"1234\",\n",
    "    content=post_content.content,\n",
    "    ttl=0,  # Will be auto-calculated\n",
    "    views=random.randint(0, 1000),\n",
    "    comments=[],\n",
    "    likes=[{\"user_id\": datetime.datetime.now().strftime(\"%Y%m%d%H%M%S\"), \"reaction_type\": random.choice(list(ReactionType)), \"created_at\": int(datetime.datetime.now().timestamp())} for _ in range(10)],\n",
    "    repost={\"timestamp\": \"\", \"count\": 0},\n",
    ")"
   ]
  },
  {
   "cell_type": "code",
   "execution_count": 23,
   "metadata": {},
   "outputs": [
    {
     "data": {
      "text/plain": [
       "1747743492"
      ]
     },
     "execution_count": 23,
     "metadata": {},
     "output_type": "execute_result"
    }
   ],
   "source": [
    "valid_post.ttl"
   ]
  },
  {
   "cell_type": "code",
   "execution_count": null,
   "metadata": {},
   "outputs": [],
   "source": []
  }
 ],
 "metadata": {
  "kernelspec": {
   "display_name": "LinkedLens",
   "language": "python",
   "name": "python3"
  },
  "language_info": {
   "codemirror_mode": {
    "name": "ipython",
    "version": 3
   },
   "file_extension": ".py",
   "mimetype": "text/x-python",
   "name": "python",
   "nbconvert_exporter": "python",
   "pygments_lexer": "ipython3",
   "version": "3.11.3"
  }
 },
 "nbformat": 4,
 "nbformat_minor": 2
}
